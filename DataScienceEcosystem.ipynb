{
  "metadata": {
    "kernelspec": {
      "name": "python",
      "display_name": "Python (Pyodide)",
      "language": "python"
    },
    "language_info": {
      "codemirror_mode": {
        "name": "python",
        "version": 3
      },
      "file_extension": ".py",
      "mimetype": "text/x-python",
      "name": "python",
      "nbconvert_exporter": "python",
      "pygments_lexer": "ipython3",
      "version": "3.8"
    }
  },
  "nbformat_minor": 5,
  "nbformat": 4,
  "cells": [
    {
      "id": "070f15c1-4f43-493b-81c1-b47b0a23812d",
      "cell_type": "markdown",
      "source": "# Data Science Tools and Ecosystem",
      "metadata": {}
    },
    {
      "id": "8991044b-df3a-49c9-b27d-fe0785cb9056",
      "cell_type": "markdown",
      "source": "In this notebook, Data Science Tools and Ecosystem are summarized. ",
      "metadata": {}
    },
    {
      "id": "34a7d478-9bce-4fd3-b789-84f76c717575",
      "cell_type": "markdown",
      "source": "**Objectives:**\n+ Popular languages that Data Scientists Use\n+ Libraies used by Data Scientists\n+ Data Scientist Tools",
      "metadata": {}
    },
    {
      "id": "92c699db-62b5-40d1-8c06-3f4761af2954",
      "cell_type": "markdown",
      "source": "Some of the popular languages that Data Scientists use are:\n1. Python\n2. R Language\n3. SQL\n4. Javascript",
      "metadata": {}
    },
    {
      "id": "3a0c21d7-01e1-4552-98a5-8572074220a1",
      "cell_type": "markdown",
      "source": "Some of the commomnly used libralies used by Data Scientists include:\n1. ggplot2\n2. Scala Libraries\n3. Scikit-learn\n4. TensorFlow\n5. Seaborn",
      "metadata": {},
      "attachments": {}
    },
    {
      "id": "b4671dfb-c788-4377-95a5-acea2a8f6bc7",
      "cell_type": "markdown",
      "source": "|***Data Scientist Tools*** |\n|---------------------------|\n|MySQL|\n|PostgreSQL|\n|Git|",
      "metadata": {}
    },
    {
      "id": "ff9e9479-5d7f-44b6-92ab-649b249bc763",
      "cell_type": "markdown",
      "source": "### Below are a few examples of evaluation arithmetic expressions in Python",
      "metadata": {}
    },
    {
      "id": "9c7ebeb8-8fd9-4e66-b965-597f9bbf5edd",
      "cell_type": "code",
      "source": "(3*4)+5",
      "metadata": {
        "trusted": true
      },
      "outputs": [
        {
          "execution_count": 12,
          "output_type": "execute_result",
          "data": {
            "text/plain": "17"
          },
          "metadata": {}
        }
      ],
      "execution_count": 12
    },
    {
      "id": "40eee22e-5527-4c40-af7f-73026e6563cb",
      "cell_type": "markdown",
      "source": "This is example arithmetic expression to multiply the and integers.",
      "metadata": {},
      "attachments": {}
    },
    {
      "id": "ca8c6ed1-6e5d-4c16-92ff-2ce1aecc2b7a",
      "cell_type": "code",
      "source": "minutes = 200\nhours = minutes/60\nprint(hours)",
      "metadata": {
        "trusted": true
      },
      "outputs": [
        {
          "name": "stdout",
          "output_type": "stream",
          "text": "3.3333333333333335\n"
        }
      ],
      "execution_count": 13
    },
    {
      "id": "d952b82e-9451-40e7-ac1e-12da85792ead",
      "cell_type": "markdown",
      "source": "This will convert 200 minutes to houra by dividing by 60.",
      "metadata": {}
    },
    {
      "id": "afc16564-9828-4ea0-b81d-3fbf6c35df0a",
      "cell_type": "markdown",
      "source": "## Author",
      "metadata": {}
    },
    {
      "id": "ecbd6919-f4a5-49e5-9b57-56dcea88bd67",
      "cell_type": "markdown",
      "source": "Taksapone Puhariwongsuk",
      "metadata": {}
    }
  ]
}